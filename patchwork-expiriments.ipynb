{
 "cells": [
  {
   "cell_type": "code",
   "execution_count": 1,
   "metadata": {},
   "outputs": [
    {
     "name": "stdout",
     "output_type": "stream",
     "text": [
      "hello world!\n"
     ]
    }
   ],
   "source": [
    "print('hello world!')"
   ]
  },
  {
   "cell_type": "code",
   "execution_count": 6,
   "metadata": {},
   "outputs": [
    {
     "name": "stdout",
     "output_type": "stream",
     "text": [
      "1, 11, 1\n"
     ]
    }
   ],
   "source": [
    "var = '{}, {}'.format(1, 1)\n",
    "print(var * 2)"
   ]
  },
  {
   "cell_type": "code",
   "execution_count": 30,
   "metadata": {},
   "outputs": [
    {
     "name": "stdout",
     "output_type": "stream",
     "text": [
      "[[ 1  2  3  4  5  6  7]\n",
      " [ 2  4  6  8 10 12 14]\n",
      " [ 3  6  9 12 15 18 21]\n",
      " [ 4  8 12 16 20 24 28]\n",
      " [ 5 10 15 20 25 30 35]\n",
      " [ 6 12 18 24 30 36 42]\n",
      " [ 7 14 21 28 35 42 49]]\n",
      "[[ 2  3  4  5  6  7  8]\n",
      " [ 4  6  8 10 12 14 16]\n",
      " [ 6  9 12 15 18 21 24]\n",
      " [ 8 12 16 20 24 28 32]\n",
      " [10 15 20 25 30 35 40]\n",
      " [12 18 24 30 36 42 48]\n",
      " [14 21 28 35 42 49 56]]\n",
      "[[ 3  4  5  6  7  8  9]\n",
      " [ 6  8 10 12 14 16 18]\n",
      " [ 9 12 15 18 21 24 27]\n",
      " [12 16 20 24 28 32 36]\n",
      " [15 20 25 30 35 40 45]\n",
      " [18 24 30 36 42 48 54]\n",
      " [21 28 35 42 49 56 63]]\n",
      "[[ 2  4  6  8 10 12 14]\n",
      " [ 3  6  9 12 15 18 21]\n",
      " [ 4  8 12 16 20 24 28]\n",
      " [ 5 10 15 20 25 30 35]\n",
      " [ 6 12 18 24 30 36 42]\n",
      " [ 7 14 21 28 35 42 49]\n",
      " [ 8 16 24 32 40 48 56]]\n",
      "[[ 4  6  8 10 12 14 16]\n",
      " [ 6  9 12 15 18 21 24]\n",
      " [ 8 12 16 20 24 28 32]\n",
      " [10 15 20 25 30 35 40]\n",
      " [12 18 24 30 36 42 48]\n",
      " [14 21 28 35 42 49 56]\n",
      " [16 24 32 40 48 56 64]]\n",
      "[[ 6  8 10 12 14 16 18]\n",
      " [ 9 12 15 18 21 24 27]\n",
      " [12 16 20 24 28 32 36]\n",
      " [15 20 25 30 35 40 45]\n",
      " [18 24 30 36 42 48 54]\n",
      " [21 28 35 42 49 56 63]\n",
      " [24 32 40 48 56 64 72]]\n",
      "[[ 3  6  9 12 15 18 21]\n",
      " [ 4  8 12 16 20 24 28]\n",
      " [ 5 10 15 20 25 30 35]\n",
      " [ 6 12 18 24 30 36 42]\n",
      " [ 7 14 21 28 35 42 49]\n",
      " [ 8 16 24 32 40 48 56]\n",
      " [ 9 18 27 36 45 54 63]]\n",
      "[[ 6  9 12 15 18 21 24]\n",
      " [ 8 12 16 20 24 28 32]\n",
      " [10 15 20 25 30 35 40]\n",
      " [12 18 24 30 36 42 48]\n",
      " [14 21 28 35 42 49 56]\n",
      " [16 24 32 40 48 56 64]\n",
      " [18 27 36 45 54 63 72]]\n",
      "[[ 9 12 15 18 21 24 27]\n",
      " [12 16 20 24 28 32 36]\n",
      " [15 20 25 30 35 40 45]\n",
      " [18 24 30 36 42 48 54]\n",
      " [21 28 35 42 49 56 63]\n",
      " [24 32 40 48 56 64 72]\n",
      " [27 36 45 54 63 72 81]]\n"
     ]
    }
   ],
   "source": [
    "import numpy as np\n",
    "a = np.ones((7,7), int)\n",
    "b = np.ones((9,9), int)\n",
    "for i in range(9):\n",
    "    for j in range(9):\n",
    "        b[i][j] = (i + 1) * (j + 1)\n",
    "\n",
    "for i in range(3):\n",
    "    for j in range(3):\n",
    "        if not 0 in b[i:7+i, j:7+j]:\n",
    "            "
   ]
  },
  {
   "cell_type": "code",
   "execution_count": 3,
   "metadata": {},
   "outputs": [
    {
     "data": {
      "text/plain": [
       "()"
      ]
     },
     "execution_count": 3,
     "metadata": {},
     "output_type": "execute_result"
    }
   ],
   "source": [
    "import numpy as np\n",
    "arr = np.array((1), int)\n",
    "arr.shape"
   ]
  },
  {
   "cell_type": "code",
   "execution_count": 2,
   "metadata": {},
   "outputs": [
    {
     "data": {
      "text/plain": [
       "7"
      ]
     },
     "execution_count": 2,
     "metadata": {},
     "output_type": "execute_result"
    }
   ],
   "source": [
    "7 + (7 if False == 1 else 0)"
   ]
  },
  {
   "cell_type": "code",
   "execution_count": 208,
   "metadata": {},
   "outputs": [],
   "source": [
    "# create pieces\n",
    "matrix = np.zeros((9,9), int)\n",
    "piece = {}\n",
    "piece[3] = np.array(([1,1]))\n",
    "piece[4] = np.array(([1,1], [0,1]))\n",
    "piece[5] = np.array(([1,1], [0,1]))\n",
    "piece[6] = np.array(([1,1,1]))\n",
    "piece[7] = np.array(([1,1], [1,1]))\n",
    "piece[8] = np.array(([1,1,1,1]))\n",
    "piece[9] = np.array(([1,1,1], [1,0,0]))\n",
    "piece[10] = np.array(([1,1,1], [1,0,0]))\n",
    "piece[11] = np.array(([1,1,1], [0,1,0]))\n",
    "piece[12] = np.array(([0,1,1], [1,1,0]))\n",
    "piece[13] = np.array(([0,1,1], [1,1,0]))\n",
    "piece[14] = np.array(([0,1,0], [1,1,1], [0,1,0]))\n",
    "piece[15] = np.array(([1,0,1], [1,1,1]))\n",
    "piece[16] = np.array(([1,1,1], [1,1,0]))\n",
    "piece[17] = np.array(([1,1,1], [0,1,0], [0,1,0]))\n",
    "piece[18] = np.array(([0,1,0,0], [1,1,1,1]))\n",
    "piece[19] = np.array(([1,1,0,0], [0,1,1,1]))\n",
    "piece[20] = np.array(([1,0,0], [1,1,0], [0,1,1]))\n",
    "piece[21] = np.array(([1,0,0,0], [1,1,1,1]))\n",
    "piece[22] = np.array(([0,1,1], [1,1,0], [0,1,1]))\n",
    "piece[23] = np.array(([1,1,0,0], [1,1,1,1]))\n",
    "piece[24] = np.array(([0,1,1,0], [1,1,1,1]))\n",
    "piece[25] = np.array(([0,1,0,0], [1,1,1,1], [0,1,0,0]))\n",
    "piece[26] = np.array(([0,0,1,0], [1,1,1,1], [0,1,0,0]))\n",
    "piece[27] = np.array(([1,1,0], [1,1,0], [0,1,1]))\n",
    "piece[28] = np.array(([1,0,0,1], [1,1,1,1]))\n",
    "piece[29] = np.array(([1,0,0,0], [1,1,1,1], [0,0,0,1]))\n",
    "piece[30] = np.array(([0,0,0,1], [1,1,1,1], [0,0,0,1]))\n",
    "piece[31] = np.array(([0,1,1,1], [1,1,1,0]))\n",
    "piece[32] = np.array(([0,0,1,0,0], [1,1,1,1,1], [0,0,1,0,0]))\n",
    "piece[33] = np.array(([1,1,1], [0,1,0], [1,1,1]))\n",
    "piece[34] = np.array(([0,1,1,0], [1,1,1,1], [0,1,1,0]))"
   ]
  },
  {
   "cell_type": "code",
   "execution_count": 27,
   "metadata": {},
   "outputs": [],
   "source": [
    "# add_patch_to_matrix code\n",
    "def add_patch_to_matrix(matrix, patch, coor:tuple):\n",
    "        temp_matrix = matrix.copy()\n",
    "\n",
    "        temp_patch = patch\n",
    "\n",
    "        if len(temp_patch.shape) == 2:\n",
    "            temp_matrix[coor[0]:coor[0] + temp_patch.shape[0], coor[1]:coor[1] + temp_patch.shape[1]] += temp_patch  # use array slicing\n",
    "        else:\n",
    "            temp_matrix[coor[0]:coor[0] + 1, coor[1]:coor[1] + len(temp_patch)][0] += temp_patch  # use array slicing\n",
    "        return temp_matrix"
   ]
  },
  {
   "cell_type": "code",
   "execution_count": 44,
   "metadata": {},
   "outputs": [],
   "source": [
    "def find_variations(patch):\n",
    "    variations = [patch]\n",
    "    patch = np.rot90(patch, k = 1)\n",
    "    variations.append(patch)\n",
    "    patch = np.rot90(patch, k = 1)\n",
    "    variations.append(patch)\n",
    "    patch = np.rot90(patch, k = 1)\n",
    "    variations.append(patch)\n",
    "    patch = np.flipud(patch)\n",
    "    variations.append(patch)\n",
    "    patch = np.rot90(patch, k = 1)\n",
    "    variations.append(patch)\n",
    "    patch = np.rot90(patch, k = 1)\n",
    "    variations.append(patch)\n",
    "    patch = np.rot90(patch, k = 1)\n",
    "    variations.append(patch)\n",
    "\n",
    "    temp = []\n",
    "    temp_nums = []\n",
    "    for i, variation in enumerate(variations):\n",
    "        if variation.tolist() in temp:\n",
    "            temp_nums.append(i)\n",
    "        temp.append(variation.tolist())\n",
    "\n",
    "    temp_nums.reverse()\n",
    "    for i in temp_nums:\n",
    "        del variations[i]\n",
    "\n",
    "    shapes = []\n",
    "    for variation in variations:\n",
    "        shape = variation.shape\n",
    "        if len(shape) == 1:\n",
    "            shape = (shape[0], 1)\n",
    "        shapes.append(shape)\n",
    "\n",
    "    return zip(variations, shapes)\n"
   ]
  },
  {
   "cell_type": "code",
   "execution_count": 47,
   "metadata": {},
   "outputs": [],
   "source": [
    "def possible_coors(shape:tuple):\n",
    "    coors = []\n",
    "    for i in range(10 - shape[0]):\n",
    "        for j in range(10 - shape[1]):\n",
    "            coors.append((i, j))\n",
    "\n",
    "    return coors"
   ]
  },
  {
   "cell_type": "code",
   "execution_count": 209,
   "metadata": {},
   "outputs": [
    {
     "name": "stdout",
     "output_type": "stream",
     "text": [
      "612.0\n",
      "494.0\n"
     ]
    }
   ],
   "source": [
    "def score(matrix, edge_bonus:float = 1.0, neighbor_bonus:float = 2.0, blank_neighbor_penalty:float = 0.5, \\\n",
    "    hard_to_fill_penalty:float = 5.0, less_hard_to_fill_penalty:float = 1.0):\n",
    "\n",
    "    if 2 in matrix:\n",
    "        raise Exception('cannot have a 2 in the matrix')\n",
    "        # raise Error\n",
    "\n",
    "    score = 0\n",
    "\n",
    "    left_edge, right_edge, top_edge, bottom_edge = False, False, False, False\n",
    "    for i in range(9):\n",
    "        for j in range(9):\n",
    "            \n",
    "            sides_blocked = 0\n",
    "            \n",
    "            if matrix[i, j] == 1:\n",
    "                if i == 0:\n",
    "                    score += edge_bonus\n",
    "                    left_edge = True\n",
    "                if i == 8:\n",
    "                    score += edge_bonus\n",
    "                    right_edge = True\n",
    "                if j == 0:\n",
    "                    score += edge_bonus\n",
    "                    top_edge = True\n",
    "                if j == 8:\n",
    "                    score += edge_bonus\n",
    "                    bottom_edge = True\n",
    "                if not right_edge:\n",
    "                    if matrix[i+1, j] == 1:\n",
    "                        score += neighbor_bonus\n",
    "                    else:\n",
    "                        score -= blank_neighbor_penalty\n",
    "                if not left_edge:\n",
    "                    if matrix[i-1, j] == 1:\n",
    "                        score += neighbor_bonus\n",
    "                    else:\n",
    "                        score -= blank_neighbor_penalty\n",
    "                if not top_edge:\n",
    "                    if matrix[i, j-1] == 1:\n",
    "                        score += neighbor_bonus\n",
    "                    else:\n",
    "                        score -= blank_neighbor_penalty\n",
    "                if not bottom_edge:\n",
    "                    if matrix[i, j+1] == 1:\n",
    "                        score += neighbor_bonus\n",
    "                    else:\n",
    "                        score -= blank_neighbor_penalty\n",
    "            if matrix[i, j] == 0:\n",
    "                if i == 0:\n",
    "                    left_edge = True\n",
    "                if i == 8:\n",
    "                    right_edge = True\n",
    "                if j == 0:\n",
    "                    top_edge = True\n",
    "                if j == 8:\n",
    "                    bottom_edge = True\n",
    "                if not i == 8:\n",
    "                    if matrix[i+1, j] == 1:\n",
    "                        sides_blocked += 1\n",
    "                else:\n",
    "                    sides_blocked += 1\n",
    "                \n",
    "                if not i == 0:\n",
    "                    if matrix[i-1, j] == 1:\n",
    "                        sides_blocked += 1\n",
    "                else: \n",
    "                    sides_blocked += 1\n",
    "            \n",
    "                if not j == 8:\n",
    "                    if matrix[i, j+1] == 1:\n",
    "                        sides_blocked += 1\n",
    "                else:\n",
    "                    sides_blocked += 1\n",
    "                \n",
    "                if not j == 0:\n",
    "                    if matrix[i, j-1] == 1:\n",
    "                        sides_blocked += 1\n",
    "                else: \n",
    "                    sides_blocked += 1\n",
    "\n",
    "                if sides_blocked == 4:\n",
    "                    score -= hard_to_fill_penalty\n",
    "\n",
    "                if sides_blocked == 3:\n",
    "                    score -= less_hard_to_fill_penalty\n",
    "                    \n",
    "            left_edge, right_edge, top_edge, bottom_edge = False, False, False, False\n",
    "    \n",
    "    \n",
    "    return score\n",
    "                    \n",
    "matrix = np.ones((9,9), int)\n",
    "print(score(matrix, 1.0, 2.0, 0.5))\n",
    "matrix[3,4] = 0\n",
    "print(score(matrix, 1.0, 2.0, 0.5, hard_to_fill_penalty=100.0))"
   ]
  },
  {
   "cell_type": "code",
   "execution_count": 211,
   "metadata": {},
   "outputs": [],
   "source": [
    "matrix = np.zeros((9,9), int)"
   ]
  },
  {
   "cell_type": "code",
   "execution_count": 219,
   "metadata": {},
   "outputs": [
    {
     "name": "stdout",
     "output_type": "stream",
     "text": [
      "3\n"
     ]
    },
    {
     "ename": "ValueError",
     "evalue": "Axes must be different.",
     "output_type": "error",
     "traceback": [
      "\u001b[1;31m---------------------------------------------------------------------------\u001b[0m",
      "\u001b[1;31mValueError\u001b[0m                                Traceback (most recent call last)",
      "Cell \u001b[1;32mIn [219], line 35\u001b[0m\n\u001b[0;32m     33\u001b[0m piece_num \u001b[38;5;241m=\u001b[39m randrange(\u001b[38;5;241m3\u001b[39m, \u001b[38;5;241m35\u001b[39m)\n\u001b[0;32m     34\u001b[0m \u001b[38;5;28mprint\u001b[39m(piece_num)\n\u001b[1;32m---> 35\u001b[0m matrix \u001b[38;5;241m=\u001b[39m \u001b[43mfind_best_placement\u001b[49m\u001b[43m(\u001b[49m\u001b[43mmatrix\u001b[49m\u001b[43m,\u001b[49m\u001b[43m \u001b[49m\u001b[43mpiece_num\u001b[49m\u001b[43m)\u001b[49m\n\u001b[0;32m     36\u001b[0m \u001b[38;5;28mprint\u001b[39m(matrix)\n",
      "Cell \u001b[1;32mIn [219], line 9\u001b[0m, in \u001b[0;36mfind_best_placement\u001b[1;34m(matrix, piece_num)\u001b[0m\n\u001b[0;32m      6\u001b[0m \u001b[38;5;28;01mif\u001b[39;00m \u001b[38;5;28mlen\u001b[39m(patch\u001b[38;5;241m.\u001b[39mshape) \u001b[38;5;241m==\u001b[39m \u001b[38;5;241m1\u001b[39m:\n\u001b[0;32m      7\u001b[0m     patch \u001b[38;5;241m=\u001b[39m patch[np\u001b[38;5;241m.\u001b[39mnewaxis]\n\u001b[1;32m----> 9\u001b[0m \u001b[38;5;28;01mfor\u001b[39;00m variation, shape \u001b[38;5;129;01min\u001b[39;00m \u001b[43mfind_variations\u001b[49m\u001b[43m(\u001b[49m\u001b[43mpiece\u001b[49m\u001b[43m[\u001b[49m\u001b[43mpiece_num\u001b[49m\u001b[43m]\u001b[49m\u001b[43m)\u001b[49m:\n\u001b[0;32m     10\u001b[0m     \u001b[38;5;28;01mfor\u001b[39;00m coor \u001b[38;5;129;01min\u001b[39;00m possible_coors(shape):\n\u001b[0;32m     11\u001b[0m         \u001b[38;5;28;01mtry\u001b[39;00m:\n",
      "Cell \u001b[1;32mIn [44], line 3\u001b[0m, in \u001b[0;36mfind_variations\u001b[1;34m(patch)\u001b[0m\n\u001b[0;32m      1\u001b[0m \u001b[38;5;28;01mdef\u001b[39;00m \u001b[38;5;21mfind_variations\u001b[39m(patch):\n\u001b[0;32m      2\u001b[0m     variations \u001b[38;5;241m=\u001b[39m [patch]\n\u001b[1;32m----> 3\u001b[0m     patch \u001b[38;5;241m=\u001b[39m \u001b[43mnp\u001b[49m\u001b[38;5;241;43m.\u001b[39;49m\u001b[43mrot90\u001b[49m\u001b[43m(\u001b[49m\u001b[43mpatch\u001b[49m\u001b[43m,\u001b[49m\u001b[43m \u001b[49m\u001b[43mk\u001b[49m\u001b[43m \u001b[49m\u001b[38;5;241;43m=\u001b[39;49m\u001b[43m \u001b[49m\u001b[38;5;241;43m1\u001b[39;49m\u001b[43m)\u001b[49m\n\u001b[0;32m      4\u001b[0m     variations\u001b[38;5;241m.\u001b[39mappend(patch)\n\u001b[0;32m      5\u001b[0m     patch \u001b[38;5;241m=\u001b[39m np\u001b[38;5;241m.\u001b[39mrot90(patch, k \u001b[38;5;241m=\u001b[39m \u001b[38;5;241m1\u001b[39m)\n",
      "File \u001b[1;32m<__array_function__ internals>:180\u001b[0m, in \u001b[0;36mrot90\u001b[1;34m(*args, **kwargs)\u001b[0m\n",
      "File \u001b[1;32m~\\AppData\\Local\\Packages\\PythonSoftwareFoundation.Python.3.9_qbz5n2kfra8p0\\LocalCache\\local-packages\\Python39\\site-packages\\numpy\\lib\\function_base.py:223\u001b[0m, in \u001b[0;36mrot90\u001b[1;34m(m, k, axes)\u001b[0m\n\u001b[0;32m    220\u001b[0m m \u001b[39m=\u001b[39m asanyarray(m)\n\u001b[0;32m    222\u001b[0m \u001b[39mif\u001b[39;00m axes[\u001b[39m0\u001b[39m] \u001b[39m==\u001b[39m axes[\u001b[39m1\u001b[39m] \u001b[39mor\u001b[39;00m absolute(axes[\u001b[39m0\u001b[39m] \u001b[39m-\u001b[39m axes[\u001b[39m1\u001b[39m]) \u001b[39m==\u001b[39m m\u001b[39m.\u001b[39mndim:\n\u001b[1;32m--> 223\u001b[0m     \u001b[39mraise\u001b[39;00m \u001b[39mValueError\u001b[39;00m(\u001b[39m\"\u001b[39m\u001b[39mAxes must be different.\u001b[39m\u001b[39m\"\u001b[39m)\n\u001b[0;32m    225\u001b[0m \u001b[39mif\u001b[39;00m (axes[\u001b[39m0\u001b[39m] \u001b[39m>\u001b[39m\u001b[39m=\u001b[39m m\u001b[39m.\u001b[39mndim \u001b[39mor\u001b[39;00m axes[\u001b[39m0\u001b[39m] \u001b[39m<\u001b[39m \u001b[39m-\u001b[39mm\u001b[39m.\u001b[39mndim\n\u001b[0;32m    226\u001b[0m     \u001b[39mor\u001b[39;00m axes[\u001b[39m1\u001b[39m] \u001b[39m>\u001b[39m\u001b[39m=\u001b[39m m\u001b[39m.\u001b[39mndim \u001b[39mor\u001b[39;00m axes[\u001b[39m1\u001b[39m] \u001b[39m<\u001b[39m \u001b[39m-\u001b[39mm\u001b[39m.\u001b[39mndim):\n\u001b[0;32m    227\u001b[0m     \u001b[39mraise\u001b[39;00m \u001b[39mValueError\u001b[39;00m(\u001b[39m\"\u001b[39m\u001b[39mAxes=\u001b[39m\u001b[39m{}\u001b[39;00m\u001b[39m out of range for array of ndim=\u001b[39m\u001b[39m{}\u001b[39;00m\u001b[39m.\u001b[39m\u001b[39m\"\u001b[39m\n\u001b[0;32m    228\u001b[0m         \u001b[39m.\u001b[39mformat(axes, m\u001b[39m.\u001b[39mndim))\n",
      "\u001b[1;31mValueError\u001b[0m: Axes must be different."
     ]
    }
   ],
   "source": [
    "from random import randrange\n",
    "def find_best_placement(matrix, piece_num):\n",
    "    results = []\n",
    "\n",
    "    patch = piece[piece_num]\n",
    "    if len(patch.shape) == 1:\n",
    "        patch = patch[np.newaxis]\n",
    "\n",
    "    for variation, shape in find_variations(piece[piece_num]):\n",
    "        for coor in possible_coors(shape):\n",
    "            try:\n",
    "                temp_score = score(add_patch_to_matrix(matrix, variation, coor), hard_to_fill_penalty=100, less_hard_to_fill_penalty=1.0)\n",
    "                results.append((variation, coor, temp_score))\n",
    "            except:\n",
    "                pass\n",
    "\n",
    "    highest_score = -9999999\n",
    "    important_variation = -9999999\n",
    "    important_coor = -9999999\n",
    "    for variation, coor, temp_score in results:\n",
    "        if temp_score > highest_score:\n",
    "            highest_score = temp_score\n",
    "            important_variation = variation\n",
    "            important_coor = coor\n",
    "    try:\n",
    "        return add_patch_to_matrix(matrix, important_variation, important_coor)\n",
    "    except Exception as e:\n",
    "        print('no solution')\n",
    "        print(f'patch with no fit:\\n {piece[piece_num]}')\n",
    "        print('matrix it wont fit on:')\n",
    "        return matrix\n",
    "\n",
    "piece_num = randrange(3, 35)\n",
    "print(piece_num)\n",
    "matrix = find_best_placement(matrix, piece_num)\n",
    "print(matrix)\n"
   ]
  }
 ],
 "metadata": {
  "kernelspec": {
   "display_name": "Python 3.9.13 64-bit (microsoft store)",
   "language": "python",
   "name": "python3"
  },
  "language_info": {
   "codemirror_mode": {
    "name": "ipython",
    "version": 3
   },
   "file_extension": ".py",
   "mimetype": "text/x-python",
   "name": "python",
   "nbconvert_exporter": "python",
   "pygments_lexer": "ipython3",
   "version": "3.9.13"
  },
  "orig_nbformat": 4,
  "vscode": {
   "interpreter": {
    "hash": "47c35f80cde5b094f6c5f75c94b75b97ebfb3b923e3c19a67345d5daeef741d3"
   }
  }
 },
 "nbformat": 4,
 "nbformat_minor": 2
}
